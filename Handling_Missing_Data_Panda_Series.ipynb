{
 "cells": [
  {
   "cell_type": "markdown",
   "id": "5a83b99e",
   "metadata": {},
   "source": [
    "# Missing Data"
   ]
  },
  {
   "cell_type": "code",
   "execution_count": 1,
   "id": "ef2eed21",
   "metadata": {},
   "outputs": [],
   "source": [
    "import pandas as pd\n",
    "import numpy as np"
   ]
  },
  {
   "cell_type": "code",
   "execution_count": 4,
   "id": "e9068696",
   "metadata": {},
   "outputs": [],
   "source": [
    "sales = [0, 5, 155, np.nan, 518]   #np.nan create a NaN value"
   ]
  },
  {
   "cell_type": "code",
   "execution_count": 6,
   "id": "68bbf54c",
   "metadata": {},
   "outputs": [
    {
     "data": {
      "text/plain": [
       "0      0.0\n",
       "1      5.0\n",
       "2    155.0\n",
       "3      NaN\n",
       "4    518.0\n",
       "Name: Sales, dtype: float64"
      ]
     },
     "execution_count": 6,
     "metadata": {},
     "output_type": "execute_result"
    }
   ],
   "source": [
    "sales_series = pd.Series(sales, name=\"Sales\")\n",
    "sales_series"
   ]
  },
  {
   "cell_type": "code",
   "execution_count": 8,
   "id": "fa114957",
   "metadata": {},
   "outputs": [
    {
     "data": {
      "text/plain": [
       "0      2.0\n",
       "1      7.0\n",
       "2    157.0\n",
       "3      NaN\n",
       "4    520.0\n",
       "Name: Sales, dtype: float64"
      ]
     },
     "execution_count": 8,
     "metadata": {},
     "output_type": "execute_result"
    }
   ],
   "source": [
    "sales_series + 2  #Arithmetic operation performed on NaN values will return NaN"
   ]
  },
  {
   "cell_type": "code",
   "execution_count": 11,
   "id": "f9cbbd2e",
   "metadata": {},
   "outputs": [
    {
     "data": {
      "text/plain": [
       "0      2.0\n",
       "1      7.0\n",
       "2    157.0\n",
       "3      2.0\n",
       "4    520.0\n",
       "Name: Sales, dtype: float64"
      ]
     },
     "execution_count": 11,
     "metadata": {},
     "output_type": "execute_result"
    }
   ],
   "source": [
    "sales_series.add(2, fill_value=0)  # 'fill_value' argument that lets you pass a value instead of NaN"
   ]
  },
  {
   "cell_type": "markdown",
   "id": "d2169c15",
   "metadata": {},
   "source": [
    "Panda released its own 'Missing data type' 'NA', in Dec -2020\n",
    "        \n",
    "            This allow missing values to be stored as integers, instead of needing to convert to float\n",
    "            This still new feature, but most bugs end up converting data to NumPy 'NaN'"
   ]
  },
  {
   "cell_type": "code",
   "execution_count": 12,
   "id": "02d007bd",
   "metadata": {},
   "outputs": [],
   "source": [
    "sales = [0, 5, 210, pd.NA, 576]"
   ]
  },
  {
   "cell_type": "code",
   "execution_count": 13,
   "id": "55408105",
   "metadata": {},
   "outputs": [],
   "source": [
    "ss = pd.Series(sales, name='Sales Record')"
   ]
  },
  {
   "cell_type": "code",
   "execution_count": 14,
   "id": "680df0ea",
   "metadata": {},
   "outputs": [
    {
     "data": {
      "text/plain": [
       "0       0\n",
       "1       5\n",
       "2     210\n",
       "3    <NA>\n",
       "4     576\n",
       "Name: Sales Record, dtype: object"
      ]
     },
     "execution_count": 14,
     "metadata": {},
     "output_type": "execute_result"
    }
   ],
   "source": [
    "ss"
   ]
  },
  {
   "cell_type": "markdown",
   "id": "4e158e13",
   "metadata": {},
   "source": [
    "# Identifying Missing Data\n",
    "\n",
    "The '.isna()' and '.value_counts()' methods are used to identify missing data in Series"
   ]
  },
  {
   "cell_type": "code",
   "execution_count": 38,
   "id": "65bda03a",
   "metadata": {},
   "outputs": [],
   "source": [
    "cl = ['Complete', np.nan, np.nan, np.nan, 'Complete', 'Incomplete', 'Incomplete', 'Complete']"
   ]
  },
  {
   "cell_type": "code",
   "execution_count": 39,
   "id": "1cc9de91",
   "metadata": {},
   "outputs": [],
   "source": [
    "cls = pd.Series(cl)"
   ]
  },
  {
   "cell_type": "code",
   "execution_count": 40,
   "id": "841d865b",
   "metadata": {},
   "outputs": [
    {
     "data": {
      "text/plain": [
       "0      Complete\n",
       "1           NaN\n",
       "2           NaN\n",
       "3           NaN\n",
       "4      Complete\n",
       "5    Incomplete\n",
       "6    Incomplete\n",
       "7      Complete\n",
       "dtype: object"
      ]
     },
     "execution_count": 40,
     "metadata": {},
     "output_type": "execute_result"
    }
   ],
   "source": [
    "cls"
   ]
  },
  {
   "cell_type": "code",
   "execution_count": 41,
   "id": "4413ea5e",
   "metadata": {},
   "outputs": [
    {
     "data": {
      "text/plain": [
       "0    False\n",
       "1     True\n",
       "2     True\n",
       "3     True\n",
       "4    False\n",
       "5    False\n",
       "6    False\n",
       "7    False\n",
       "dtype: bool"
      ]
     },
     "execution_count": 41,
     "metadata": {},
     "output_type": "execute_result"
    }
   ],
   "source": [
    "cls.isna()    # '.isna()' method return True if a value is missing otherwise False"
   ]
  },
  {
   "cell_type": "code",
   "execution_count": 42,
   "id": "832db8c1",
   "metadata": {},
   "outputs": [
    {
     "data": {
      "text/plain": [
       "3"
      ]
     },
     "execution_count": 42,
     "metadata": {},
     "output_type": "execute_result"
    }
   ],
   "source": [
    "cls.isna().sum()   # '.sum()' methods returns the count of missing (NaN) values"
   ]
  },
  {
   "cell_type": "code",
   "execution_count": 43,
   "id": "946d2aed",
   "metadata": {},
   "outputs": [
    {
     "data": {
      "text/plain": [
       "Complete      3\n",
       "Incomplete    2\n",
       "dtype: int64"
      ]
     },
     "execution_count": 43,
     "metadata": {},
     "output_type": "execute_result"
    }
   ],
   "source": [
    "cls.value_counts()  # '.value_counts()' method retur the unique values & their frequecy"
   ]
  },
  {
   "cell_type": "code",
   "execution_count": 46,
   "id": "c541f15d",
   "metadata": {},
   "outputs": [
    {
     "data": {
      "text/plain": [
       "NaN           3\n",
       "Complete      3\n",
       "Incomplete    2\n",
       "dtype: int64"
      ]
     },
     "execution_count": 46,
     "metadata": {},
     "output_type": "execute_result"
    }
   ],
   "source": [
    "cls.value_counts(dropna=False)   # dropna=False to returs the count of NaN values"
   ]
  },
  {
   "cell_type": "markdown",
   "id": "177a6afa",
   "metadata": {},
   "source": [
    "# Handling Missing Data\n",
    "\n",
    "'.dropna()' method is used to remove NaN\n",
    "\n",
    "\n",
    "'.fillna(arguent)' method is used to replace NaN with specified value"
   ]
  },
  {
   "cell_type": "code",
   "execution_count": 48,
   "id": "be829172",
   "metadata": {},
   "outputs": [],
   "source": [
    "data = [256, 'IPL', np.nan, 'Sachin', np.nan, np.nan, 254, 369, 'Srilanka']"
   ]
  },
  {
   "cell_type": "code",
   "execution_count": 49,
   "id": "abc8d998",
   "metadata": {},
   "outputs": [],
   "source": [
    "ps = pd.Series(data)"
   ]
  },
  {
   "cell_type": "code",
   "execution_count": 51,
   "id": "ecd28a71",
   "metadata": {},
   "outputs": [
    {
     "data": {
      "text/plain": [
       "0         256\n",
       "1         IPL\n",
       "2         NaN\n",
       "3      Sachin\n",
       "4         NaN\n",
       "5         NaN\n",
       "6         254\n",
       "7         369\n",
       "8    Srilanka\n",
       "dtype: object"
      ]
     },
     "execution_count": 51,
     "metadata": {},
     "output_type": "execute_result"
    }
   ],
   "source": [
    "ps"
   ]
  },
  {
   "cell_type": "code",
   "execution_count": 53,
   "id": "c5bcddfa",
   "metadata": {},
   "outputs": [
    {
     "data": {
      "text/plain": [
       "3"
      ]
     },
     "execution_count": 53,
     "metadata": {},
     "output_type": "execute_result"
    }
   ],
   "source": [
    "# identify is there any Null value\n",
    "ps.isna().sum()"
   ]
  },
  {
   "cell_type": "code",
   "execution_count": 55,
   "id": "484d44eb",
   "metadata": {},
   "outputs": [],
   "source": [
    "#drop all NaN \n",
    "k = ps.dropna()"
   ]
  },
  {
   "cell_type": "code",
   "execution_count": 56,
   "id": "397d1aba",
   "metadata": {},
   "outputs": [
    {
     "data": {
      "text/plain": [
       "0         256\n",
       "1         IPL\n",
       "3      Sachin\n",
       "6         254\n",
       "7         369\n",
       "8    Srilanka\n",
       "dtype: object"
      ]
     },
     "execution_count": 56,
     "metadata": {},
     "output_type": "execute_result"
    }
   ],
   "source": [
    "k"
   ]
  },
  {
   "cell_type": "code",
   "execution_count": 58,
   "id": "e62e26ad",
   "metadata": {},
   "outputs": [
    {
     "data": {
      "text/plain": [
       "0"
      ]
     },
     "execution_count": 58,
     "metadata": {},
     "output_type": "execute_result"
    }
   ],
   "source": [
    "k.isna().sum()"
   ]
  },
  {
   "cell_type": "code",
   "execution_count": 60,
   "id": "f1133609",
   "metadata": {},
   "outputs": [],
   "source": [
    "#replace NaN with String 'Hyderabad'\n",
    "x = ps.fillna('Hyderabad')"
   ]
  },
  {
   "cell_type": "code",
   "execution_count": 61,
   "id": "d89a2b94",
   "metadata": {},
   "outputs": [
    {
     "data": {
      "text/plain": [
       "0          256\n",
       "1          IPL\n",
       "2    Hyderabad\n",
       "3       Sachin\n",
       "4    Hyderabad\n",
       "5    Hyderabad\n",
       "6          254\n",
       "7          369\n",
       "8     Srilanka\n",
       "dtype: object"
      ]
     },
     "execution_count": 61,
     "metadata": {},
     "output_type": "execute_result"
    }
   ],
   "source": [
    "x"
   ]
  },
  {
   "cell_type": "code",
   "execution_count": 63,
   "id": "37b37e0c",
   "metadata": {},
   "outputs": [
    {
     "data": {
      "text/plain": [
       "0"
      ]
     },
     "execution_count": 63,
     "metadata": {},
     "output_type": "execute_result"
    }
   ],
   "source": [
    "x.isna().sum()"
   ]
  },
  {
   "cell_type": "code",
   "execution_count": null,
   "id": "08e623bb",
   "metadata": {},
   "outputs": [],
   "source": []
  }
 ],
 "metadata": {
  "kernelspec": {
   "display_name": "Python 3",
   "language": "python",
   "name": "python3"
  },
  "language_info": {
   "codemirror_mode": {
    "name": "ipython",
    "version": 3
   },
   "file_extension": ".py",
   "mimetype": "text/x-python",
   "name": "python",
   "nbconvert_exporter": "python",
   "pygments_lexer": "ipython3",
   "version": "3.8.8"
  }
 },
 "nbformat": 4,
 "nbformat_minor": 5
}
