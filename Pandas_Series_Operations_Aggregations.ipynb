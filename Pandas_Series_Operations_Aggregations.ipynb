{
 "cells": [
  {
   "cell_type": "code",
   "execution_count": 1,
   "id": "d52b0036",
   "metadata": {},
   "outputs": [],
   "source": [
    "import numpy as np\n",
    "import pandas as pd"
   ]
  },
  {
   "cell_type": "markdown",
   "id": "954bcac3",
   "metadata": {},
   "source": [
    "# Arithmetic Operators & Methods\n",
    "\n",
    "                    Operation       Python Operator    Pandas Method\n",
    "                    Addition             +              .add()\n",
    "                    Subtraction          -              .sub(), .subtract()\n",
    "                    Muliplication        *              .mul(), .multiply()\n",
    "                    Division             /              .div(), .truediv(), .divide()\n",
    "                    Floor Divison        //             .floordiv()\n",
    "                    Modulo               %              .mod()\n",
    "                    Exponential          **             .pow()"
   ]
  },
  {
   "cell_type": "code",
   "execution_count": 2,
   "id": "f0768c75",
   "metadata": {},
   "outputs": [],
   "source": [
    "sales_data = [0, 5, 155, 0, 518]\n",
    "sales = pd.Series(sales_data)"
   ]
  },
  {
   "cell_type": "code",
   "execution_count": 3,
   "id": "3392f80c",
   "metadata": {},
   "outputs": [
    {
     "data": {
      "text/plain": [
       "0      0\n",
       "1      5\n",
       "2    155\n",
       "3      0\n",
       "4    518\n",
       "dtype: int64"
      ]
     },
     "execution_count": 3,
     "metadata": {},
     "output_type": "execute_result"
    }
   ],
   "source": [
    "sales"
   ]
  },
  {
   "cell_type": "code",
   "execution_count": 4,
   "id": "73d63a10",
   "metadata": {},
   "outputs": [
    {
     "data": {
      "text/plain": [
       "0      2\n",
       "1      7\n",
       "2    157\n",
       "3      2\n",
       "4    520\n",
       "dtype: int64"
      ]
     },
     "execution_count": 4,
     "metadata": {},
     "output_type": "execute_result"
    }
   ],
   "source": [
    "sales + 2"
   ]
  },
  {
   "cell_type": "code",
   "execution_count": 5,
   "id": "f2354ffe",
   "metadata": {},
   "outputs": [
    {
     "data": {
      "text/plain": [
       "0      2\n",
       "1      7\n",
       "2    157\n",
       "3      2\n",
       "4    520\n",
       "dtype: int64"
      ]
     },
     "execution_count": 5,
     "metadata": {},
     "output_type": "execute_result"
    }
   ],
   "source": [
    "sales.add(2)"
   ]
  },
  {
   "cell_type": "code",
   "execution_count": 18,
   "id": "56649b3b",
   "metadata": {},
   "outputs": [
    {
     "data": {
      "text/plain": [
       "0      $0.0\n",
       "1      $5.0\n",
       "2    $155.0\n",
       "3      $0.0\n",
       "4    $518.0\n",
       "dtype: string"
      ]
     },
     "execution_count": 18,
     "metadata": {},
     "output_type": "execute_result"
    }
   ],
   "source": [
    "\"$\" + sales.astype('float').astype('string')"
   ]
  },
  {
   "cell_type": "markdown",
   "id": "6d1573e8",
   "metadata": {},
   "source": [
    "# String Methods"
   ]
  },
  {
   "cell_type": "code",
   "execution_count": 19,
   "id": "89865e6b",
   "metadata": {},
   "outputs": [],
   "source": [
    "sales = np.array([3.99, 5.99, 22.99, 7.99, 33.99])"
   ]
  },
  {
   "cell_type": "code",
   "execution_count": 21,
   "id": "493663f3",
   "metadata": {},
   "outputs": [],
   "source": [
    "price = pd.Series(sales)"
   ]
  },
  {
   "cell_type": "code",
   "execution_count": 22,
   "id": "e35ee8c0",
   "metadata": {},
   "outputs": [
    {
     "data": {
      "text/plain": [
       "0     3.99\n",
       "1     5.99\n",
       "2    22.99\n",
       "3     7.99\n",
       "4    33.99\n",
       "dtype: float64"
      ]
     },
     "execution_count": 22,
     "metadata": {},
     "output_type": "execute_result"
    }
   ],
   "source": [
    "price"
   ]
  },
  {
   "cell_type": "code",
   "execution_count": 32,
   "id": "0c864137",
   "metadata": {
    "scrolled": true
   },
   "outputs": [
    {
     "data": {
      "text/plain": [
       "0     $3.99\n",
       "1     $5.99\n",
       "2    $22.99\n",
       "3     $7.99\n",
       "4    $33.99\n",
       "dtype: string"
      ]
     },
     "execution_count": 32,
     "metadata": {},
     "output_type": "execute_result"
    }
   ],
   "source": [
    "\"$\"+price.astype('float').astype('string')"
   ]
  },
  {
   "cell_type": "markdown",
   "id": "b4c49ca9",
   "metadata": {},
   "source": [
    "# Aggregation"
   ]
  },
  {
   "cell_type": "code",
   "execution_count": 45,
   "id": "03883a71",
   "metadata": {},
   "outputs": [],
   "source": [
    "sales = np.array([0.0, 5.0, 155.0, 22.5, 518.0])"
   ]
  },
  {
   "cell_type": "code",
   "execution_count": 46,
   "id": "6e95b979",
   "metadata": {},
   "outputs": [
    {
     "data": {
      "text/plain": [
       "array([  0. ,   5. , 155. ,  22.5, 518. ])"
      ]
     },
     "execution_count": 46,
     "metadata": {},
     "output_type": "execute_result"
    }
   ],
   "source": [
    "sales"
   ]
  },
  {
   "cell_type": "code",
   "execution_count": 47,
   "id": "0bea7617",
   "metadata": {},
   "outputs": [],
   "source": [
    "sales_series = pd.Series(sales, index=['coffee', 'coffee', 'tea', 'coconut', 'sugar'])"
   ]
  },
  {
   "cell_type": "code",
   "execution_count": 48,
   "id": "047b275e",
   "metadata": {},
   "outputs": [
    {
     "data": {
      "text/plain": [
       "coffee       0.0\n",
       "coffee       5.0\n",
       "tea        155.0\n",
       "coconut     22.5\n",
       "sugar      518.0\n",
       "dtype: float64"
      ]
     },
     "execution_count": 48,
     "metadata": {},
     "output_type": "execute_result"
    }
   ],
   "source": [
    "sales_series"
   ]
  },
  {
   "cell_type": "code",
   "execution_count": 49,
   "id": "af413523",
   "metadata": {},
   "outputs": [
    {
     "data": {
      "text/plain": [
       "700.5"
      ]
     },
     "execution_count": 49,
     "metadata": {},
     "output_type": "execute_result"
    }
   ],
   "source": [
    "sales_series.sum()"
   ]
  },
  {
   "cell_type": "code",
   "execution_count": 50,
   "id": "45a1cc95",
   "metadata": {},
   "outputs": [
    {
     "data": {
      "text/plain": [
       "5.0"
      ]
     },
     "execution_count": 50,
     "metadata": {},
     "output_type": "execute_result"
    }
   ],
   "source": [
    "sales_series.loc['coffee'].sum()"
   ]
  },
  {
   "cell_type": "code",
   "execution_count": 51,
   "id": "2b5cfdce",
   "metadata": {},
   "outputs": [
    {
     "data": {
      "text/plain": [
       "0.25      5.0\n",
       "0.50     22.5\n",
       "0.75    155.0\n",
       "dtype: float64"
      ]
     },
     "execution_count": 51,
     "metadata": {},
     "output_type": "execute_result"
    }
   ],
   "source": [
    "sales_series.quantile([0.25, 0.50, 0.75])"
   ]
  },
  {
   "cell_type": "code",
   "execution_count": 53,
   "id": "9fa50529",
   "metadata": {},
   "outputs": [],
   "source": [
    "items = np.array(['coffee', 'coffee', 'tea', 'coconut', 'sugar'])"
   ]
  },
  {
   "cell_type": "code",
   "execution_count": 55,
   "id": "3626d035",
   "metadata": {},
   "outputs": [],
   "source": [
    "items = pd.Series(items)"
   ]
  },
  {
   "cell_type": "code",
   "execution_count": 56,
   "id": "354dc3f3",
   "metadata": {},
   "outputs": [
    {
     "data": {
      "text/plain": [
       "0     coffee\n",
       "1     coffee\n",
       "2        tea\n",
       "3    coconut\n",
       "4      sugar\n",
       "dtype: object"
      ]
     },
     "execution_count": 56,
     "metadata": {},
     "output_type": "execute_result"
    }
   ],
   "source": [
    "items"
   ]
  },
  {
   "cell_type": "code",
   "execution_count": 59,
   "id": "f12ddd33",
   "metadata": {},
   "outputs": [
    {
     "data": {
      "text/plain": [
       "coffee     2\n",
       "sugar      1\n",
       "coconut    1\n",
       "tea        1\n",
       "dtype: int64"
      ]
     },
     "execution_count": 59,
     "metadata": {},
     "output_type": "execute_result"
    }
   ],
   "source": [
    "items.value_counts()"
   ]
  },
  {
   "cell_type": "code",
   "execution_count": 60,
   "id": "54dc4ee5",
   "metadata": {},
   "outputs": [
    {
     "data": {
      "text/plain": [
       "coffee     0.4\n",
       "sugar      0.2\n",
       "coconut    0.2\n",
       "tea        0.2\n",
       "dtype: float64"
      ]
     },
     "execution_count": 60,
     "metadata": {},
     "output_type": "execute_result"
    }
   ],
   "source": [
    "items.value_counts(normalize=True)"
   ]
  },
  {
   "cell_type": "code",
   "execution_count": 62,
   "id": "bdf1897a",
   "metadata": {},
   "outputs": [
    {
     "data": {
      "text/plain": [
       "4"
      ]
     },
     "execution_count": 62,
     "metadata": {},
     "output_type": "execute_result"
    }
   ],
   "source": [
    "items.nunique()"
   ]
  },
  {
   "cell_type": "code",
   "execution_count": 63,
   "id": "11c47418",
   "metadata": {},
   "outputs": [
    {
     "data": {
      "text/plain": [
       "array(['coffee', 'tea', 'coconut', 'sugar'], dtype=object)"
      ]
     },
     "execution_count": 63,
     "metadata": {},
     "output_type": "execute_result"
    }
   ],
   "source": [
    "items.unique()"
   ]
  },
  {
   "cell_type": "code",
   "execution_count": null,
   "id": "5223795f",
   "metadata": {},
   "outputs": [],
   "source": []
  }
 ],
 "metadata": {
  "kernelspec": {
   "display_name": "Python 3",
   "language": "python",
   "name": "python3"
  },
  "language_info": {
   "codemirror_mode": {
    "name": "ipython",
    "version": 3
   },
   "file_extension": ".py",
   "mimetype": "text/x-python",
   "name": "python",
   "nbconvert_exporter": "python",
   "pygments_lexer": "ipython3",
   "version": "3.8.8"
  }
 },
 "nbformat": 4,
 "nbformat_minor": 5
}
